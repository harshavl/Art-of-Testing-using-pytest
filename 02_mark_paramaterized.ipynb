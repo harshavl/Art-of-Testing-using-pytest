{
 "cells": [
  {
   "cell_type": "markdown",
   "metadata": {},
   "source": [
    "## Examples"
   ]
  },
  {
   "cell_type": "code",
   "execution_count": 1,
   "metadata": {},
   "outputs": [
    {
     "name": "stdout",
     "output_type": "stream",
     "text": [
      "Writing count_vowels.py\n"
     ]
    }
   ],
   "source": [
    "%%writefile count_vowels.py\n",
    "\n",
    "def count_vowels(s):\n",
    "    total = 0\n",
    "    for letter in s:\n",
    "        if letter in 'aeiou':\n",
    "            total += 1\n",
    "            \n",
    "    return total\n"
   ]
  },
  {
   "cell_type": "code",
   "execution_count": 4,
   "metadata": {},
   "outputs": [
    {
     "name": "stdout",
     "output_type": "stream",
     "text": [
      "Overwriting test_count_vowels.py\n"
     ]
    }
   ],
   "source": [
    "%%writefile test_count_vowels.py\n",
    "\n",
    "from count_vowels import count_vowels\n",
    "\n",
    "def test_no_vowel_word():\n",
    "    assert count_vowels('rhythm') == 0\n",
    "    \n",
    "def test_simple_word():\n",
    "    assert count_vowels('hello') == 2\n",
    "    \n",
    "def test_simple_goodbye():\n",
    "    assert count_vowels('GOODBYE') == 3\n",
    "    \n",
    "    "
   ]
  },
  {
   "cell_type": "code",
   "execution_count": 5,
   "metadata": {},
   "outputs": [
    {
     "name": "stdout",
     "output_type": "stream",
     "text": [
      "============================= test session starts =============================\n",
      "platform win32 -- Python 3.8.3, pytest-6.0.2, py-1.9.0, pluggy-0.13.1 -- c:\\users\\hl3\\anaconda3\\python.exe\n",
      "cachedir: .pytest_cache\n",
      "rootdir: C:\\Users\\hl3\\OneDrive - DXC Production\\heap\\unit_testing_software_pytest\\pytest\n",
      "plugins: sugar-0.9.4\n",
      "collecting ... collected 3 items\n",
      "\n",
      "test_count_vowels.py::test_no_vowel_word PASSED                          [ 33%]\n",
      "test_count_vowels.py::test_simple_word PASSED                            [ 66%]\n",
      "test_count_vowels.py::test_simple_goodbye FAILED                         [100%]\n",
      "\n",
      "================================== FAILURES ===================================\n",
      "_____________________________ test_simple_goodbye _____________________________\n",
      "\n",
      "    def test_simple_goodbye():\n",
      ">       assert count_vowels('GOODBYE') == 3\n",
      "E       assert 0 == 3\n",
      "E         +0\n",
      "E         -3\n",
      "\n",
      "test_count_vowels.py:11: AssertionError\n",
      "=========================== short test summary info ===========================\n",
      "FAILED test_count_vowels.py::test_simple_goodbye - assert 0 == 3\n",
      "========================= 1 failed, 2 passed in 0.27s =========================\n"
     ]
    }
   ],
   "source": [
    "! pytest -vv test_count_vowels.py"
   ]
  },
  {
   "cell_type": "markdown",
   "metadata": {},
   "source": [
    "**Observation**:  failed due to capital letters."
   ]
  },
  {
   "cell_type": "code",
   "execution_count": 6,
   "metadata": {},
   "outputs": [
    {
     "name": "stdout",
     "output_type": "stream",
     "text": [
      "Overwriting count_vowels.py\n"
     ]
    }
   ],
   "source": [
    "%%writefile count_vowels.py\n",
    "\n",
    "def count_vowels(s):\n",
    "    total = 0\n",
    "    for letter in s.lower():\n",
    "        if letter in 'aeiou':\n",
    "            total += 1\n",
    "            \n",
    "    return total"
   ]
  },
  {
   "cell_type": "code",
   "execution_count": 7,
   "metadata": {},
   "outputs": [
    {
     "name": "stdout",
     "output_type": "stream",
     "text": [
      "============================= test session starts =============================\n",
      "platform win32 -- Python 3.8.3, pytest-6.0.2, py-1.9.0, pluggy-0.13.1\n",
      "rootdir: C:\\Users\\hl3\\OneDrive - DXC Production\\heap\\unit_testing_software_pytest\\pytest\n",
      "plugins: sugar-0.9.4\n",
      "collected 3 items / 2 deselected / 1 selected\n",
      "run-last-failure: rerun previous 1 failure\n",
      "\n",
      "test_count_vowels.py .                                                   [100%]\n",
      "\n",
      "======================= 1 passed, 2 deselected in 0.07s =======================\n"
     ]
    }
   ],
   "source": [
    "! pytest --last-failed test_count_vowels.py"
   ]
  },
  {
   "cell_type": "markdown",
   "metadata": {},
   "source": [
    "Observe: Runs only last time failed functions."
   ]
  },
  {
   "cell_type": "code",
   "execution_count": 8,
   "metadata": {},
   "outputs": [
    {
     "name": "stdout",
     "output_type": "stream",
     "text": [
      "============================= test session starts =============================\n",
      "platform win32 -- Python 3.8.3, pytest-6.0.2, py-1.9.0, pluggy-0.13.1\n",
      "rootdir: C:\\Users\\hl3\\OneDrive - DXC Production\\heap\\unit_testing_software_pytest\\pytest\n",
      "plugins: sugar-0.9.4\n",
      "collected 3 items\n",
      "run-last-failure: 1 known failures not in selected tests\n",
      "\n",
      "test_count_vowels.py ...                                                 [100%]\n",
      "\n",
      "============================== 3 passed in 0.19s ==============================\n"
     ]
    }
   ],
   "source": [
    "! pytest --last-failed test_count_vowels.py"
   ]
  },
  {
   "cell_type": "code",
   "execution_count": 10,
   "metadata": {},
   "outputs": [
    {
     "name": "stdout",
     "output_type": "stream",
     "text": [
      "============================= test session starts =============================\n",
      "platform win32 -- Python 3.8.3, pytest-6.0.2, py-1.9.0, pluggy-0.13.1 -- c:\\users\\hl3\\anaconda3\\python.exe\n",
      "cachedir: .pytest_cache\n",
      "rootdir: C:\\Users\\hl3\\OneDrive - DXC Production\\heap\\unit_testing_software_pytest\\pytest\n",
      "plugins: sugar-0.9.4\n",
      "collecting ... collected 3 items\n",
      "run-last-failure: 1 known failures not in selected tests\n",
      "\n",
      "test_count_vowels.py::test_no_vowel_word PASSED                          [ 33%]\n",
      "test_count_vowels.py::test_simple_word PASSED                            [ 66%]\n",
      "test_count_vowels.py::test_simple_goodbye PASSED                         [100%]\n",
      "\n",
      "============================== 3 passed in 0.07s ==============================\n"
     ]
    }
   ],
   "source": [
    "! pytest -vv --failed-first test_count_vowels.py"
   ]
  },
  {
   "cell_type": "code",
   "execution_count": 11,
   "metadata": {},
   "outputs": [
    {
     "name": "stdout",
     "output_type": "stream",
     "text": [
      "Overwriting test_count_vowels.py\n"
     ]
    }
   ],
   "source": [
    "%%writefile test_count_vowels.py\n",
    "\n",
    "from count_vowels import count_vowels\n",
    "\n",
    "def test_no_vowel_word():\n",
    "    assert count_vowels('rhythm') == 0\n",
    "    \n",
    "def test_simple_word():\n",
    "    assert count_vowels('hello') == 2\n",
    "    \n",
    "def test_simple_goodbye():\n",
    "    assert count_vowels('GOODBYE') == 3\n",
    "    \n",
    "def test_list():\n",
    "    assert count_vowels(['abcde']) == 2"
   ]
  },
  {
   "cell_type": "code",
   "execution_count": 12,
   "metadata": {},
   "outputs": [
    {
     "name": "stdout",
     "output_type": "stream",
     "text": [
      "============================= test session starts =============================\n",
      "platform win32 -- Python 3.8.3, pytest-6.0.2, py-1.9.0, pluggy-0.13.1 -- c:\\users\\hl3\\anaconda3\\python.exe\n",
      "cachedir: .pytest_cache\n",
      "rootdir: C:\\Users\\hl3\\OneDrive - DXC Production\\heap\\unit_testing_software_pytest\\pytest\n",
      "plugins: sugar-0.9.4\n",
      "collecting ... collected 4 items\n",
      "\n",
      "test_count_vowels.py::test_no_vowel_word PASSED                          [ 25%]\n",
      "test_count_vowels.py::test_simple_word PASSED                            [ 50%]\n",
      "test_count_vowels.py::test_simple_goodbye PASSED                         [ 75%]\n",
      "test_count_vowels.py::test_list FAILED                                   [100%]\n",
      "\n",
      "================================== FAILURES ===================================\n",
      "__________________________________ test_list __________________________________\n",
      "\n",
      "    def test_list():\n",
      ">       assert count_vowels(['abcde']) == 2\n",
      "\n",
      "test_count_vowels.py:14: \n",
      "_ _ _ _ _ _ _ _ _ _ _ _ _ _ _ _ _ _ _ _ _ _ _ _ _ _ _ _ _ _ _ _ _ _ _ _ _ _ _ _\n",
      "\n",
      "s = ['abcde']\n",
      "\n",
      "    def count_vowels(s):\n",
      "        total = 0\n",
      ">       for letter in s.lower():\n",
      "E       AttributeError: 'list' object has no attribute 'lower'\n",
      "\n",
      "count_vowels.py:4: AttributeError\n",
      "=========================== short test summary info ===========================\n",
      "FAILED test_count_vowels.py::test_list - AttributeError: 'list' object has no...\n",
      "========================= 1 failed, 3 passed in 0.72s =========================\n"
     ]
    }
   ],
   "source": [
    "! pytest -vv test_count_vowels.py"
   ]
  },
  {
   "cell_type": "markdown",
   "metadata": {},
   "source": [
    "Observe: List won't work due to lower.<br>\n",
    "\n",
    "## How to handle exceptions?<br>\n",
    "import pytest"
   ]
  },
  {
   "cell_type": "code",
   "execution_count": 15,
   "metadata": {},
   "outputs": [
    {
     "name": "stdout",
     "output_type": "stream",
     "text": [
      "Overwriting test_count_vowels.py\n"
     ]
    }
   ],
   "source": [
    "%%writefile test_count_vowels.py\n",
    "\n",
    "import pytest\n",
    "\n",
    "from count_vowels import count_vowels\n",
    "\n",
    "def test_no_vowel_word():\n",
    "    assert count_vowels('rhythm') == 0\n",
    "    \n",
    "def test_simple_word():\n",
    "    assert count_vowels('hello') == 2\n",
    "    \n",
    "def test_simple_goodbye():\n",
    "    assert count_vowels('GOODBYE') == 3\n",
    "    \n",
    "def test_list():\n",
    "    with pytest.raises(AttributeError):\n",
    "        assert count_vowels(['abcde']) == 2"
   ]
  },
  {
   "cell_type": "code",
   "execution_count": 16,
   "metadata": {},
   "outputs": [
    {
     "name": "stdout",
     "output_type": "stream",
     "text": [
      "============================= test session starts =============================\n",
      "platform win32 -- Python 3.8.3, pytest-6.0.2, py-1.9.0, pluggy-0.13.1 -- c:\\users\\hl3\\anaconda3\\python.exe\n",
      "cachedir: .pytest_cache\n",
      "rootdir: C:\\Users\\hl3\\OneDrive - DXC Production\\heap\\unit_testing_software_pytest\\pytest\n",
      "plugins: sugar-0.9.4\n",
      "collecting ... collected 4 items\n",
      "\n",
      "test_count_vowels.py::test_no_vowel_word PASSED                          [ 25%]\n",
      "test_count_vowels.py::test_simple_word PASSED                            [ 50%]\n",
      "test_count_vowels.py::test_simple_goodbye PASSED                         [ 75%]\n",
      "test_count_vowels.py::test_list PASSED                                   [100%]\n",
      "\n",
      "============================== 4 passed in 0.25s ==============================\n"
     ]
    }
   ],
   "source": [
    "! pytest -vv test_count_vowels.py"
   ]
  },
  {
   "cell_type": "code",
   "execution_count": 17,
   "metadata": {},
   "outputs": [
    {
     "name": "stdout",
     "output_type": "stream",
     "text": [
      "Overwriting test_count_vowels.py\n"
     ]
    }
   ],
   "source": [
    "%%writefile test_count_vowels.py\n",
    "\n",
    "import pytest\n",
    "\n",
    "from count_vowels import count_vowels\n",
    "\n",
    "def test_no_vowel_word():\n",
    "    assert count_vowels('rhythm') == 0\n",
    "    \n",
    "def test_simple_word():\n",
    "    assert count_vowels('hello') == 2\n",
    "    \n",
    "def test_simple_goodbye():\n",
    "    assert count_vowels('GOODBYE') == 3\n",
    "    \n",
    "def test_list():\n",
    "    with pytest.raises(AttributeError):\n",
    "        assert count_vowels('abcde') == 2\n",
    "        # or assert count_vowels('abcde')"
   ]
  },
  {
   "cell_type": "code",
   "execution_count": 18,
   "metadata": {},
   "outputs": [
    {
     "name": "stdout",
     "output_type": "stream",
     "text": [
      "============================= test session starts =============================\n",
      "platform win32 -- Python 3.8.3, pytest-6.0.2, py-1.9.0, pluggy-0.13.1 -- c:\\users\\hl3\\anaconda3\\python.exe\n",
      "cachedir: .pytest_cache\n",
      "rootdir: C:\\Users\\hl3\\OneDrive - DXC Production\\heap\\unit_testing_software_pytest\\pytest\n",
      "plugins: sugar-0.9.4\n",
      "collecting ... collected 4 items\n",
      "\n",
      "test_count_vowels.py::test_no_vowel_word PASSED                          [ 25%]\n",
      "test_count_vowels.py::test_simple_word PASSED                            [ 50%]\n",
      "test_count_vowels.py::test_simple_goodbye PASSED                         [ 75%]\n",
      "test_count_vowels.py::test_list FAILED                                   [100%]\n",
      "\n",
      "================================== FAILURES ===================================\n",
      "__________________________________ test_list __________________________________\n",
      "\n",
      "    def test_list():\n",
      "        with pytest.raises(AttributeError):\n",
      ">           assert count_vowels('abcde') == 2\n",
      "E           Failed: DID NOT RAISE <class 'AttributeError'>\n",
      "\n",
      "test_count_vowels.py:17: Failed\n",
      "=========================== short test summary info ===========================\n",
      "FAILED test_count_vowels.py::test_list - Failed: DID NOT RAISE <class 'Attrib...\n",
      "========================= 1 failed, 3 passed in 0.80s =========================\n"
     ]
    }
   ],
   "source": [
    "! pytest -vv test_count_vowels.py"
   ]
  },
  {
   "cell_type": "markdown",
   "metadata": {},
   "source": [
    "## How to overcome this? Just like try / except"
   ]
  },
  {
   "cell_type": "code",
   "execution_count": 23,
   "metadata": {},
   "outputs": [
    {
     "name": "stdout",
     "output_type": "stream",
     "text": [
      "Requirement already satisfied: mypy in c:\\users\\hl3\\anaconda3\\lib\\site-packages (0.782)\n",
      "Requirement already satisfied: typed-ast<1.5.0,>=1.4.0 in c:\\users\\hl3\\anaconda3\\lib\\site-packages (from mypy) (1.4.1)\n",
      "Requirement already satisfied: typing-extensions>=3.7.4 in c:\\users\\hl3\\anaconda3\\lib\\site-packages (from mypy) (3.7.4.2)\n",
      "Requirement already satisfied: mypy-extensions<0.5.0,>=0.4.3 in c:\\users\\hl3\\anaconda3\\lib\\site-packages (from mypy) (0.4.3)\n"
     ]
    }
   ],
   "source": [
    "! pip install mypy"
   ]
  },
  {
   "cell_type": "code",
   "execution_count": 36,
   "metadata": {},
   "outputs": [
    {
     "name": "stdout",
     "output_type": "stream",
     "text": [
      "Overwriting count_vowels.py\n"
     ]
    }
   ],
   "source": [
    "%%writefile count_vowels.py\n",
    "\n",
    "def count_vowels(s: str ) -> int:\n",
    "    total = 0\n",
    "    for letter in s.lower():\n",
    "        if letter in 'aeiou':\n",
    "            total += 1\n",
    "            \n",
    "    return total\n",
    "\n",
    "\n",
    "count_vowels('abe')\n",
    "\n"
   ]
  },
  {
   "cell_type": "code",
   "execution_count": 37,
   "metadata": {},
   "outputs": [
    {
     "name": "stdout",
     "output_type": "stream",
     "text": [
      "Success: no issues found in 1 source file\n"
     ]
    }
   ],
   "source": [
    "! mypy --strict  count_vowels.py"
   ]
  },
  {
   "cell_type": "code",
   "execution_count": 39,
   "metadata": {},
   "outputs": [
    {
     "name": "stdout",
     "output_type": "stream",
     "text": [
      "test_count_vowels.py:6: error: Function is missing a return type annotation\n",
      "test_count_vowels.py:6: note: Use \"-> None\" if function does not return a value\n",
      "test_count_vowels.py:9: error: Function is missing a return type annotation\n",
      "test_count_vowels.py:9: note: Use \"-> None\" if function does not return a value\n",
      "test_count_vowels.py:12: error: Function is missing a return type annotation\n",
      "test_count_vowels.py:12: note: Use \"-> None\" if function does not return a value\n",
      "test_count_vowels.py:15: error: Function is missing a return type annotation\n",
      "test_count_vowels.py:15: note: Use \"-> None\" if function does not return a value\n",
      "Found 4 errors in 1 file (checked 1 source file)\n"
     ]
    }
   ],
   "source": [
    "! mypy --strict test_count_vowels.py"
   ]
  },
  {
   "cell_type": "markdown",
   "metadata": {},
   "source": [
    "### Add type in the test_vowels.py and it works"
   ]
  },
  {
   "cell_type": "markdown",
   "metadata": {},
   "source": [
    "####  Examples:\n",
    "\n"
   ]
  },
  {
   "cell_type": "code",
   "execution_count": 41,
   "metadata": {},
   "outputs": [
    {
     "name": "stdout",
     "output_type": "stream",
     "text": [
      "Writing person.py\n"
     ]
    }
   ],
   "source": [
    "%%writefile person.py\n",
    "\n",
    "class Person:\n",
    "    def __init__( self, first_name, last_name, age ):\n",
    "        self.first_name = first_name\n",
    "        self.last_name = last_name\n",
    "        self.age = age\n",
    "        \n",
    "    def fullname(self):\n",
    "        return f'{self.first_name} {self.last_name}'\n",
    "    \n",
    "    def greet(self):\n",
    "        return f'Hello, {self.fullname() }!'\n",
    "    \n",
    "    def __repr__(self):\n",
    "        return f'Person,  vars= {vars(self)}'\n",
    "    \n",
    "    "
   ]
  },
  {
   "cell_type": "code",
   "execution_count": 46,
   "metadata": {},
   "outputs": [
    {
     "name": "stdout",
     "output_type": "stream",
     "text": [
      "Overwriting test_person.py\n"
     ]
    }
   ],
   "source": [
    "%%writefile test_person.py\n",
    "\n",
    "import pytest\n",
    "from person import Person\n",
    "\n",
    "\n",
    "@pytest.mark.parametrize( 'first_name, last_name, age',\n",
    "                         [ ('first', 'last', 50 ),\n",
    "                           ( 'a', 'b', 15 )] )\n",
    "def test_create_person( first_name, last_name, age ):\n",
    "    ''' testing __init__() '''\n",
    "    \n",
    "    p = Person( first_name, last_name, age )\n",
    "    assert p.first_name == first_name\n",
    "    assert p.last_name == last_name\n",
    "    assert p.age == age\n",
    "    \n",
    "\n",
    "@pytest.mark.parametrize('first_name, last_name, age',\n",
    "                        [( 'first', 'last', 50 ),\n",
    "                        ( 'a', 'b', 15  )] )\n",
    "def test_greet( first_name, last_name, age ):\n",
    "    p = Person( first_name, last_name, age )\n",
    "    assert p.greet() == f'Hello, {first_name} {last_name}!'\n",
    "    \n",
    "    \n",
    "    \n",
    "def test_invalid_empty_person():\n",
    "    with pytest.raises(TypeError):\n",
    "        Person()\n",
    "    "
   ]
  },
  {
   "cell_type": "code",
   "execution_count": 47,
   "metadata": {},
   "outputs": [
    {
     "name": "stdout",
     "output_type": "stream",
     "text": [
      "============================= test session starts =============================\n",
      "platform win32 -- Python 3.8.3, pytest-6.0.2, py-1.9.0, pluggy-0.13.1 -- c:\\users\\hl3\\anaconda3\\python.exe\n",
      "cachedir: .pytest_cache\n",
      "rootdir: C:\\Users\\hl3\\OneDrive - DXC Production\\heap\\unit_testing_software_pytest\\pytest\n",
      "plugins: sugar-0.9.4\n",
      "collecting ... collected 5 items\n",
      "\n",
      "test_person.py::test_create_person[first-last-50] PASSED                 [ 20%]\n",
      "test_person.py::test_create_person[a-b-15] PASSED                        [ 40%]\n",
      "test_person.py::test_greet[first-last-50] PASSED                         [ 60%]\n",
      "test_person.py::test_greet[a-b-15] PASSED                                [ 80%]\n",
      "test_person.py::test_invalid_empty_person PASSED                         [100%]\n",
      "\n",
      "============================== 5 passed in 0.32s ==============================\n"
     ]
    }
   ],
   "source": [
    "! pytest -vv test_person.py"
   ]
  },
  {
   "cell_type": "code",
   "execution_count": null,
   "metadata": {},
   "outputs": [],
   "source": []
  }
 ],
 "metadata": {
  "kernelspec": {
   "display_name": "Python 3",
   "language": "python",
   "name": "python3"
  },
  "language_info": {
   "codemirror_mode": {
    "name": "ipython",
    "version": 3
   },
   "file_extension": ".py",
   "mimetype": "text/x-python",
   "name": "python",
   "nbconvert_exporter": "python",
   "pygments_lexer": "ipython3",
   "version": "3.8.3"
  }
 },
 "nbformat": 4,
 "nbformat_minor": 4
}
