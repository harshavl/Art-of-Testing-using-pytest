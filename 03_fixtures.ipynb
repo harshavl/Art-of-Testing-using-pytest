{
 "cells": [
  {
   "cell_type": "markdown",
   "metadata": {},
   "source": [
    "## fixtures"
   ]
  },
  {
   "cell_type": "code",
   "execution_count": 2,
   "metadata": {},
   "outputs": [
    {
     "name": "stdout",
     "output_type": "stream",
     "text": [
      "Writing firstlast.py\n"
     ]
    }
   ],
   "source": [
    "%%writefile firstlast.py\n",
    "\n",
    "def firstlast(s):\n",
    "    return s[:1] + s[-1:]\n",
    "\n"
   ]
  },
  {
   "cell_type": "markdown",
   "metadata": {},
   "source": [
    "### Let's write pytest"
   ]
  },
  {
   "cell_type": "code",
   "execution_count": 3,
   "metadata": {},
   "outputs": [
    {
     "name": "stdout",
     "output_type": "stream",
     "text": [
      "Writing test_first_last.py\n"
     ]
    }
   ],
   "source": [
    "%%writefile test_first_last.py\n",
    "\n",
    "import pytest\n",
    "from first_last import firstlast\n",
    "\n",
    "@pytest.fixture\n",
    "def simple_string():\n",
    "    return 'abcd'\n",
    "\n",
    "def test_simple(simple_string):\n",
    "    assert firstlast(simple_string) == 'ad'"
   ]
  },
  {
   "cell_type": "code",
   "execution_count": 4,
   "metadata": {},
   "outputs": [
    {
     "name": "stdout",
     "output_type": "stream",
     "text": [
      "============================= test session starts =============================\n",
      "platform win32 -- Python 3.8.3, pytest-6.0.2, py-1.9.0, pluggy-0.13.1\n",
      "rootdir: C:\\Users\\hl3\\OneDrive - DXC Production\\heap\\unit_testing_software_pytest\\pytest\n",
      "plugins: sugar-0.9.4\n",
      "collected 1 item\n",
      "\n",
      "test_first_last.py .                                                     [100%]\n",
      "\n",
      "============================== 1 passed in 0.21s ==============================\n"
     ]
    }
   ],
   "source": [
    "!pytest test_first_last.py"
   ]
  },
  {
   "cell_type": "markdown",
   "metadata": {},
   "source": [
    "### Add one more functions"
   ]
  },
  {
   "cell_type": "code",
   "execution_count": 5,
   "metadata": {},
   "outputs": [
    {
     "name": "stdout",
     "output_type": "stream",
     "text": [
      "Overwriting test_first_last.py\n"
     ]
    }
   ],
   "source": [
    "%%writefile test_first_last.py\n",
    "\n",
    "import pytest\n",
    "from first_last import firstlast\n",
    "\n",
    "@pytest.fixture\n",
    "def simple_string():\n",
    "    return 'abcd'\n",
    "\n",
    "def test_simple(simple_string):\n",
    "    assert firstlast(simple_string) == 'ad'\n",
    "    \n",
    "def test_element_0(simple_string):\n",
    "    assert firstlast( simple_string )[0] == 'a'"
   ]
  },
  {
   "cell_type": "code",
   "execution_count": 6,
   "metadata": {},
   "outputs": [
    {
     "name": "stdout",
     "output_type": "stream",
     "text": [
      "============================= test session starts =============================\n",
      "platform win32 -- Python 3.8.3, pytest-6.0.2, py-1.9.0, pluggy-0.13.1 -- c:\\users\\hl3\\anaconda3\\python.exe\n",
      "cachedir: .pytest_cache\n",
      "rootdir: C:\\Users\\hl3\\OneDrive - DXC Production\\heap\\unit_testing_software_pytest\\pytest\n",
      "plugins: sugar-0.9.4\n",
      "collecting ... collected 2 items\n",
      "\n",
      "test_first_last.py::test_simple PASSED                                   [ 50%]\n",
      "test_first_last.py::test_element_0 PASSED                                [100%]\n",
      "\n",
      "============================== 2 passed in 0.23s ==============================\n"
     ]
    }
   ],
   "source": [
    "! pytest -vv test_first_last.py"
   ]
  },
  {
   "cell_type": "markdown",
   "metadata": {},
   "source": [
    "### pytest.ini is root of pytest and it has data"
   ]
  },
  {
   "cell_type": "code",
   "execution_count": 7,
   "metadata": {},
   "outputs": [
    {
     "name": "stdout",
     "output_type": "stream",
     "text": [
      "Writing pytest.ini\n"
     ]
    }
   ],
   "source": [
    "%%writefile pytest.ini\n",
    "[pytest]\n",
    "markers = negative: use negative numbers\n",
    "          nonint: use floats"
   ]
  },
  {
   "cell_type": "code",
   "execution_count": 8,
   "metadata": {},
   "outputs": [],
   "source": [
    "# create a fixture, random_numbers,\n",
    "# which returns a tuple of 2 elements\n",
    "# - a list of random numbers\n",
    "# - the sum of those random numbers\n",
    "\n",
    "# (1) try this with a regular fixture, and see\n",
    "#  that the numbers change each time.\n",
    "\n",
    "# (2) then set the random seed to 0\n",
    "#  each time the fixture runs, and see that\n",
    "#  you get the same values each time\n",
    "\n",
    "# (3) then get rid of the random.seed, but\n",
    "#  set the fixture's scope to be \"module\"\n",
    "#  and you should still get the same values each time\n",
    "#  @pytest.fixture(scope='module')"
   ]
  },
  {
   "cell_type": "code",
   "execution_count": 11,
   "metadata": {},
   "outputs": [
    {
     "name": "stdout",
     "output_type": "stream",
     "text": [
      "Overwriting test_mysum.py\n"
     ]
    }
   ],
   "source": [
    "%%writefile test_mysum.py\n",
    "\n",
    "import os\n",
    "from mysum import mysum\n",
    "import random\n",
    "import os\n",
    "\n",
    "def test_mysum_simple():\n",
    "    assert mysum([10, 20, 30 ] ) == 60\n",
    "    assert mysum([ 10.5, 20, 30 ] ) == 60.5\n",
    "    \n",
    "    "
   ]
  },
  {
   "cell_type": "code",
   "execution_count": 12,
   "metadata": {},
   "outputs": [
    {
     "name": "stdout",
     "output_type": "stream",
     "text": [
      "============================= test session starts =============================\n",
      "platform win32 -- Python 3.8.3, pytest-6.0.2, py-1.9.0, pluggy-0.13.1 -- c:\\users\\hl3\\anaconda3\\python.exe\n",
      "cachedir: .pytest_cache\n",
      "rootdir: C:\\Users\\hl3\\OneDrive - DXC Production\\heap\\unit_testing_software_pytest\\pytest, configfile: pytest.ini\n",
      "plugins: sugar-0.9.4\n",
      "collecting ... collected 1 item\n",
      "\n",
      "test_mysum.py::test_mysum_simple PASSED                                  [100%]\n",
      "\n",
      "============================== 1 passed in 0.23s ==============================\n"
     ]
    }
   ],
   "source": [
    "!pytest -vv test_mysum.py"
   ]
  },
  {
   "cell_type": "markdown",
   "metadata": {},
   "source": [
    "### Let's test -ve number"
   ]
  },
  {
   "cell_type": "code",
   "execution_count": 17,
   "metadata": {},
   "outputs": [
    {
     "name": "stdout",
     "output_type": "stream",
     "text": [
      "Overwriting test_mysum.py\n"
     ]
    }
   ],
   "source": [
    "%%writefile test_mysum.py\n",
    "\n",
    "import os\n",
    "from mysum import mysum\n",
    "import random\n",
    "import pytest\n",
    "\n",
    "\n",
    "def test_mysum_simple():\n",
    "    assert mysum([10, 20, 30 ] ) == 60\n",
    "    assert mysum([ 10.5, 20, 30 ] ) == 60.5\n",
    "    \n",
    "    \n",
    "@pytest.mark.negative\n",
    "def test_mysum_neg():\n",
    "    assert mysum([ -5, -10, -15 ] ) == -30\n",
    "    "
   ]
  },
  {
   "cell_type": "code",
   "execution_count": 18,
   "metadata": {},
   "outputs": [
    {
     "name": "stdout",
     "output_type": "stream",
     "text": [
      "============================= test session starts =============================\n",
      "platform win32 -- Python 3.8.3, pytest-6.0.2, py-1.9.0, pluggy-0.13.1 -- c:\\users\\hl3\\anaconda3\\python.exe\n",
      "cachedir: .pytest_cache\n",
      "rootdir: C:\\Users\\hl3\\OneDrive - DXC Production\\heap\\unit_testing_software_pytest\\pytest, configfile: pytest.ini\n",
      "plugins: sugar-0.9.4\n",
      "collecting ... collected 2 items\n",
      "\n",
      "test_mysum.py::test_mysum_simple PASSED                                  [ 50%]\n",
      "test_mysum.py::test_mysum_neg PASSED                                     [100%]\n",
      "\n",
      "============================== 2 passed in 0.14s ==============================\n"
     ]
    }
   ],
   "source": [
    "! pytest -vv test_mysum.py"
   ]
  },
  {
   "cell_type": "code",
   "execution_count": 19,
   "metadata": {},
   "outputs": [
    {
     "name": "stdout",
     "output_type": "stream",
     "text": [
      "Overwriting test_mysum.py\n"
     ]
    }
   ],
   "source": [
    "%%writefile test_mysum.py\n",
    "\n",
    "import os\n",
    "from mysum import mysum\n",
    "import random\n",
    "import pytest\n",
    "\n",
    "\n",
    "def test_mysum_simple():\n",
    "    assert mysum([10, 20, 30 ] ) == 60\n",
    "    assert mysum([ 10.5, 20, 30 ] ) == 60.5\n",
    "    \n",
    "    \n",
    "@pytest.mark.negative\n",
    "def test_mysum_neg():\n",
    "    assert mysum([ -5, -10, -15 ] ) == -30\n",
    "    \n",
    "@pytest.mark.nonint\n",
    "def test_mysum_float():\n",
    "    assert mysum([10.5, 20.5, 30.5]) == 61.5\n",
    "    \n",
    "@pytest.mark.nonint\n",
    "@pytest.mark.negative\n",
    "def test_mysum_float2():\n",
    "    assert mysum([10.5, -20.5, 30.5]) == 20.5"
   ]
  },
  {
   "cell_type": "code",
   "execution_count": 20,
   "metadata": {},
   "outputs": [
    {
     "name": "stdout",
     "output_type": "stream",
     "text": [
      "============================= test session starts =============================\n",
      "platform win32 -- Python 3.8.3, pytest-6.0.2, py-1.9.0, pluggy-0.13.1 -- c:\\users\\hl3\\anaconda3\\python.exe\n",
      "cachedir: .pytest_cache\n",
      "rootdir: C:\\Users\\hl3\\OneDrive - DXC Production\\heap\\unit_testing_software_pytest\\pytest, configfile: pytest.ini\n",
      "plugins: sugar-0.9.4\n",
      "collecting ... collected 4 items\n",
      "\n",
      "test_mysum.py::test_mysum_simple PASSED                                  [ 25%]\n",
      "test_mysum.py::test_mysum_neg PASSED                                     [ 50%]\n",
      "test_mysum.py::test_mysum_float PASSED                                   [ 75%]\n",
      "test_mysum.py::test_mysum_float2 PASSED                                  [100%]\n",
      "\n",
      "============================== 4 passed in 0.21s ==============================\n"
     ]
    }
   ],
   "source": [
    "!pytest -vv test_mysum.py"
   ]
  },
  {
   "cell_type": "code",
   "execution_count": 21,
   "metadata": {},
   "outputs": [
    {
     "name": "stdout",
     "output_type": "stream",
     "text": [
      "Overwriting test_mysum.py\n"
     ]
    }
   ],
   "source": [
    "%%writefile test_mysum.py\n",
    "\n",
    "import os\n",
    "from mysum import mysum\n",
    "import random\n",
    "import pytest\n",
    "\n",
    "\n",
    "def test_mysum_simple():\n",
    "    assert mysum([10, 20, 30 ] ) == 60\n",
    "    assert mysum([ 10.5, 20, 30 ] ) == 60.5\n",
    "    \n",
    "    \n",
    "@pytest.mark.negative\n",
    "def test_mysum_neg():\n",
    "    assert mysum([ -5, -10, -15 ] ) == -30\n",
    "    \n",
    "@pytest.mark.nonint\n",
    "def test_mysum_float():\n",
    "    assert mysum([10.5, 20.5, 30.5]) == 61.5\n",
    "    \n",
    "@pytest.mark.nonint\n",
    "@pytest.mark.negative\n",
    "def test_mysum_float2():\n",
    "    assert mysum([10.5, -20.5, 30.5]) == 20.5\n",
    "    \n",
    "def test_mysum_bad_floats():\n",
    "    assert pytest.approx(mysum([0.1, 0.2])) == 0.3\n",
    "    "
   ]
  },
  {
   "cell_type": "code",
   "execution_count": 23,
   "metadata": {},
   "outputs": [
    {
     "name": "stdout",
     "output_type": "stream",
     "text": [
      "============================= test session starts =============================\n",
      "platform win32 -- Python 3.8.3, pytest-6.0.2, py-1.9.0, pluggy-0.13.1 -- c:\\users\\hl3\\anaconda3\\python.exe\n",
      "cachedir: .pytest_cache\n",
      "rootdir: C:\\Users\\hl3\\OneDrive - DXC Production\\heap\\unit_testing_software_pytest\\pytest, configfile: pytest.ini\n",
      "plugins: sugar-0.9.4\n",
      "collecting ... collected 5 items\n",
      "\n",
      "test_mysum.py::test_mysum_simple PASSED                                  [ 20%]\n",
      "test_mysum.py::test_mysum_neg PASSED                                     [ 40%]\n",
      "test_mysum.py::test_mysum_float PASSED                                   [ 60%]\n",
      "test_mysum.py::test_mysum_float2 PASSED                                  [ 80%]\n",
      "test_mysum.py::test_mysum_bad_floats PASSED                              [100%]\n",
      "\n",
      "============================== 5 passed in 0.14s ==============================\n"
     ]
    }
   ],
   "source": [
    "! pytest -vv test_mysum.py"
   ]
  },
  {
   "cell_type": "code",
   "execution_count": 24,
   "metadata": {},
   "outputs": [
    {
     "name": "stdout",
     "output_type": "stream",
     "text": [
      "Overwriting test_mysum.py\n"
     ]
    }
   ],
   "source": [
    "%%writefile test_mysum.py\n",
    "\n",
    "import os\n",
    "from mysum import mysum\n",
    "import random\n",
    "import pytest\n",
    "\n",
    "\n",
    "def test_mysum_simple():\n",
    "    assert mysum([10, 20, 30 ] ) == 60\n",
    "    assert mysum([ 10.5, 20, 30 ] ) == 60.5\n",
    "    \n",
    "    \n",
    "@pytest.mark.negative\n",
    "def test_mysum_neg():\n",
    "    assert mysum([ -5, -10, -15 ] ) == -30\n",
    "    \n",
    "@pytest.mark.nonint\n",
    "def test_mysum_float():\n",
    "    assert mysum([10.5, 20.5, 30.5]) == 61.5\n",
    "    \n",
    "@pytest.mark.nonint\n",
    "@pytest.mark.negative\n",
    "def test_mysum_float2():\n",
    "    assert mysum([10.5, -20.5, 30.5]) == 20.5\n",
    "    \n",
    "def test_mysum_bad_floats():\n",
    "    assert pytest.approx(mysum([0.1, 0.2])) == 0.3\n",
    "    \n",
    "\n",
    "@pytest.fixture(scope='module')\n",
    "def standard_numbers():\n",
    "    numbers = [random.randint(0, 100) for i in range(5)]\n",
    "    return numbers, sum(numbers)\n",
    "\n",
    "\n",
    "def test_standard_numbers1(standard_numbers):\n",
    "    numbers, total = standard_numbers\n",
    "    print(f'{numbers=}, {total=}')\n",
    "    assert mysum(numbers) == total\n",
    "    \n"
   ]
  },
  {
   "cell_type": "code",
   "execution_count": 25,
   "metadata": {},
   "outputs": [
    {
     "name": "stdout",
     "output_type": "stream",
     "text": [
      "============================= test session starts =============================\n",
      "platform win32 -- Python 3.8.3, pytest-6.0.2, py-1.9.0, pluggy-0.13.1 -- c:\\users\\hl3\\anaconda3\\python.exe\n",
      "cachedir: .pytest_cache\n",
      "rootdir: C:\\Users\\hl3\\OneDrive - DXC Production\\heap\\unit_testing_software_pytest\\pytest, configfile: pytest.ini\n",
      "plugins: sugar-0.9.4\n",
      "collecting ... collected 6 items\n",
      "\n",
      "test_mysum.py::test_mysum_simple PASSED                                  [ 16%]\n",
      "test_mysum.py::test_mysum_neg PASSED                                     [ 33%]\n",
      "test_mysum.py::test_mysum_float PASSED                                   [ 50%]\n",
      "test_mysum.py::test_mysum_float2 PASSED                                  [ 66%]\n",
      "test_mysum.py::test_mysum_bad_floats PASSED                              [ 83%]\n",
      "test_mysum.py::test_standard_numbers1 PASSED                             [100%]\n",
      "\n",
      "============================== 6 passed in 0.17s ==============================\n"
     ]
    }
   ],
   "source": [
    "! pytest -vv test_mysum.py"
   ]
  },
  {
   "cell_type": "code",
   "execution_count": 26,
   "metadata": {},
   "outputs": [
    {
     "name": "stdout",
     "output_type": "stream",
     "text": [
      "Overwriting test_mysum.py\n"
     ]
    }
   ],
   "source": [
    "%%writefile test_mysum.py\n",
    "\n",
    "import os\n",
    "from mysum import mysum\n",
    "import random\n",
    "import pytest\n",
    "\n",
    "\n",
    "def test_mysum_simple():\n",
    "    assert mysum([10, 20, 30 ] ) == 60\n",
    "    assert mysum([ 10.5, 20, 30 ] ) == 60.5\n",
    "    \n",
    "    \n",
    "@pytest.mark.negative\n",
    "def test_mysum_neg():\n",
    "    assert mysum([ -5, -10, -15 ] ) == -30\n",
    "    \n",
    "@pytest.mark.nonint\n",
    "def test_mysum_float():\n",
    "    assert mysum([10.5, 20.5, 30.5]) == 61.5\n",
    "    \n",
    "@pytest.mark.nonint\n",
    "@pytest.mark.negative\n",
    "def test_mysum_float2():\n",
    "    assert mysum([10.5, -20.5, 30.5]) == 20.5\n",
    "    \n",
    "def test_mysum_bad_floats():\n",
    "    assert pytest.approx(mysum([0.1, 0.2])) == 0.3\n",
    "    \n",
    "\n",
    "@pytest.fixture(scope='module')\n",
    "def standard_numbers():\n",
    "    numbers = [random.randint(0, 100) for i in range(5)]\n",
    "    return numbers, sum(numbers)\n",
    "\n",
    "\n",
    "def test_standard_numbers1(standard_numbers):\n",
    "    numbers, total = standard_numbers\n",
    "    print(f'{numbers=}, {total=}')\n",
    "    assert mysum(numbers) == total\n",
    "    \n",
    "\n",
    "    \n",
    "def test_standard_numbers2(standard_numbers):\n",
    "    numbers, total = standard_numbers\n",
    "    print(f'{numbers=}, {total=}')\n",
    "    assert mysum(numbers) == total\n",
    "    "
   ]
  },
  {
   "cell_type": "code",
   "execution_count": 27,
   "metadata": {},
   "outputs": [
    {
     "name": "stdout",
     "output_type": "stream",
     "text": [
      "============================= test session starts =============================\n",
      "platform win32 -- Python 3.8.3, pytest-6.0.2, py-1.9.0, pluggy-0.13.1 -- c:\\users\\hl3\\anaconda3\\python.exe\n",
      "cachedir: .pytest_cache\n",
      "rootdir: C:\\Users\\hl3\\OneDrive - DXC Production\\heap\\unit_testing_software_pytest\\pytest, configfile: pytest.ini\n",
      "plugins: sugar-0.9.4\n",
      "collecting ... collected 7 items\n",
      "\n",
      "test_mysum.py::test_mysum_simple PASSED                                  [ 14%]\n",
      "test_mysum.py::test_mysum_neg PASSED                                     [ 28%]\n",
      "test_mysum.py::test_mysum_float PASSED                                   [ 42%]\n",
      "test_mysum.py::test_mysum_float2 PASSED                                  [ 57%]\n",
      "test_mysum.py::test_mysum_bad_floats PASSED                              [ 71%]\n",
      "test_mysum.py::test_standard_numbers1 PASSED                             [ 85%]\n",
      "test_mysum.py::test_standard_numbers2 PASSED                             [100%]\n",
      "\n",
      "============================== 7 passed in 0.27s ==============================\n"
     ]
    }
   ],
   "source": [
    "! pytest -vv test_mysum.py"
   ]
  },
  {
   "cell_type": "code",
   "execution_count": 32,
   "metadata": {},
   "outputs": [
    {
     "name": "stdout",
     "output_type": "stream",
     "text": [
      "Overwriting test_mysum.py\n"
     ]
    }
   ],
   "source": [
    "%%writefile test_mysum.py\n",
    "\n",
    "import os\n",
    "from mysum import mysum\n",
    "import random\n",
    "import pytest\n",
    "\n",
    "\n",
    "def test_mysum_simple():\n",
    "    assert mysum([10, 20, 30 ] ) == 60\n",
    "    assert mysum([ 10.5, 20, 30 ] ) == 60.5\n",
    "    \n",
    "    \n",
    "@pytest.mark.negative\n",
    "def test_mysum_neg():\n",
    "    assert mysum([ -5, -10, -15 ] ) == -30\n",
    "    \n",
    "@pytest.mark.nonint\n",
    "def test_mysum_float():\n",
    "    assert mysum([10.5, 20.5, 30.5]) == 61.5\n",
    "    \n",
    "@pytest.mark.nonint\n",
    "@pytest.mark.negative\n",
    "def test_mysum_float2():\n",
    "    assert mysum([10.5, -20.5, 30.5]) == 20.5\n",
    "    \n",
    "def test_mysum_bad_floats():\n",
    "    assert pytest.approx(mysum([0.1, 0.2])) == 0.3\n",
    "    \n",
    "\n",
    "@pytest.fixture(scope='module')\n",
    "def standard_numbers():\n",
    "    numbers = [random.randint(0, 100) for i in range(5)]\n",
    "    return numbers, sum(numbers)\n",
    "\n",
    "\n",
    "def test_standard_numbers1(standard_numbers):\n",
    "    numbers, total = standard_numbers\n",
    "    print(f'{numbers=}, {total=}')\n",
    "    assert mysum(numbers) == total\n",
    "    \n",
    "\n",
    "    \n",
    "def test_standard_numbers2(standard_numbers):\n",
    "    numbers, total = standard_numbers\n",
    "    print(f'{numbers=}, {total=}')\n",
    "    assert mysum(numbers) == total\n",
    "    \n",
    "    \n",
    "@pytest.fixture\n",
    "def standard_numbers_with_file():\n",
    "    numbers = [random.randint(0, 100) for i in range(5)]\n",
    "    with open('mydata.txt', 'a') as f:\n",
    "        f.write(f'{numbers=}\\n')\n",
    "\n",
    "    # above this line runs *before* the test function is called\n",
    "\n",
    "    yield numbers, sum(numbers)\n",
    "\n",
    "    # under this line runs *after* the test function is done\n",
    "    #os.unlink('mydata.txt')\n",
    "\n"
   ]
  },
  {
   "cell_type": "code",
   "execution_count": 31,
   "metadata": {},
   "outputs": [
    {
     "name": "stdout",
     "output_type": "stream",
     "text": [
      "============================= test session starts =============================\n",
      "platform win32 -- Python 3.8.3, pytest-6.0.2, py-1.9.0, pluggy-0.13.1 -- c:\\users\\hl3\\anaconda3\\python.exe\n",
      "cachedir: .pytest_cache\n",
      "rootdir: C:\\Users\\hl3\\OneDrive - DXC Production\\heap\\unit_testing_software_pytest\\pytest, configfile: pytest.ini\n",
      "plugins: sugar-0.9.4\n",
      "collecting ... collected 7 items\n",
      "\n",
      "test_mysum.py::test_mysum_simple PASSED                                  [ 14%]\n",
      "test_mysum.py::test_mysum_neg PASSED                                     [ 28%]\n",
      "test_mysum.py::test_mysum_float PASSED                                   [ 42%]\n",
      "test_mysum.py::test_mysum_float2 PASSED                                  [ 57%]\n",
      "test_mysum.py::test_mysum_bad_floats PASSED                              [ 71%]\n",
      "test_mysum.py::test_standard_numbers1 PASSED                             [ 85%]\n",
      "test_mysum.py::test_standard_numbers2 PASSED                             [100%]\n",
      "\n",
      "============================== 7 passed in 0.17s ==============================\n"
     ]
    }
   ],
   "source": [
    "! pytest -vv test_mysum.py"
   ]
  },
  {
   "cell_type": "code",
   "execution_count": 33,
   "metadata": {},
   "outputs": [
    {
     "name": "stdout",
     "output_type": "stream",
     "text": [
      "Overwriting test_mysum.py\n"
     ]
    }
   ],
   "source": [
    "%%writefile test_mysum.py\n",
    "\n",
    "import os\n",
    "from mysum import mysum\n",
    "import random\n",
    "import pytest\n",
    "\n",
    "\n",
    "def test_mysum_simple():\n",
    "    assert mysum([10, 20, 30 ] ) == 60\n",
    "    assert mysum([ 10.5, 20, 30 ] ) == 60.5\n",
    "    \n",
    "    \n",
    "@pytest.mark.negative\n",
    "def test_mysum_neg():\n",
    "    assert mysum([ -5, -10, -15 ] ) == -30\n",
    "    \n",
    "@pytest.mark.nonint\n",
    "def test_mysum_float():\n",
    "    assert mysum([10.5, 20.5, 30.5]) == 61.5\n",
    "    \n",
    "@pytest.mark.nonint\n",
    "@pytest.mark.negative\n",
    "def test_mysum_float2():\n",
    "    assert mysum([10.5, -20.5, 30.5]) == 20.5\n",
    "    \n",
    "def test_mysum_bad_floats():\n",
    "    assert pytest.approx(mysum([0.1, 0.2])) == 0.3\n",
    "    \n",
    "\n",
    "@pytest.fixture(scope='module')\n",
    "def standard_numbers():\n",
    "    numbers = [random.randint(0, 100) for i in range(5)]\n",
    "    return numbers, sum(numbers)\n",
    "\n",
    "\n",
    "def test_standard_numbers1(standard_numbers):\n",
    "    numbers, total = standard_numbers\n",
    "    print(f'{numbers=}, {total=}')\n",
    "    assert mysum(numbers) == total\n",
    "    \n",
    "\n",
    "    \n",
    "def test_standard_numbers2(standard_numbers):\n",
    "    numbers, total = standard_numbers\n",
    "    print(f'{numbers=}, {total=}')\n",
    "    assert mysum(numbers) == total\n",
    "    \n",
    "    \n",
    "@pytest.fixture\n",
    "def standard_numbers_with_file():\n",
    "    numbers = [random.randint(0, 100) for i in range(5)]\n",
    "    with open('mydata.txt', 'a') as f:\n",
    "        f.write(f'{numbers=}\\n')\n",
    "\n",
    "    # above this line runs *before* the test function is called\n",
    "\n",
    "    yield numbers, sum(numbers)\n",
    "\n",
    "    # under this line runs *after* the test function is done\n",
    "    #os.unlink('mydata.txt')\n",
    "\n",
    "\n",
    "def test_standard_numbers_file1(standard_numbers_with_file):\n",
    "    numbers, total = standard_numbers_with_file\n",
    "    print(f'{numbers=}, {total=}')\n",
    "    assert mysum(numbers) == total\n",
    "    \n",
    "def test_standard_numbers_file2(standard_numbers_with_file):\n",
    "    numbers, total = standard_numbers_with_file\n",
    "    print(f'{numbers=}, {total=}')\n",
    "    assert mysum(numbers) == total\n",
    "    \n",
    "    "
   ]
  },
  {
   "cell_type": "code",
   "execution_count": 34,
   "metadata": {},
   "outputs": [
    {
     "name": "stdout",
     "output_type": "stream",
     "text": [
      "============================= test session starts =============================\n",
      "platform win32 -- Python 3.8.3, pytest-6.0.2, py-1.9.0, pluggy-0.13.1 -- c:\\users\\hl3\\anaconda3\\python.exe\n",
      "cachedir: .pytest_cache\n",
      "rootdir: C:\\Users\\hl3\\OneDrive - DXC Production\\heap\\unit_testing_software_pytest\\pytest, configfile: pytest.ini\n",
      "plugins: sugar-0.9.4\n",
      "collecting ... collected 9 items\n",
      "\n",
      "test_mysum.py::test_mysum_simple PASSED                                  [ 11%]\n",
      "test_mysum.py::test_mysum_neg PASSED                                     [ 22%]\n",
      "test_mysum.py::test_mysum_float PASSED                                   [ 33%]\n",
      "test_mysum.py::test_mysum_float2 PASSED                                  [ 44%]\n",
      "test_mysum.py::test_mysum_bad_floats PASSED                              [ 55%]\n",
      "test_mysum.py::test_standard_numbers1 PASSED                             [ 66%]\n",
      "test_mysum.py::test_standard_numbers2 PASSED                             [ 77%]\n",
      "test_mysum.py::test_standard_numbers_file1 PASSED                        [ 88%]\n",
      "test_mysum.py::test_standard_numbers_file2 PASSED                        [100%]\n",
      "\n",
      "============================== 9 passed in 0.21s ==============================\n"
     ]
    }
   ],
   "source": [
    "! pytest -vv test_mysum.py"
   ]
  },
  {
   "cell_type": "code",
   "execution_count": null,
   "metadata": {},
   "outputs": [],
   "source": []
  }
 ],
 "metadata": {
  "kernelspec": {
   "display_name": "Python 3",
   "language": "python",
   "name": "python3"
  },
  "language_info": {
   "codemirror_mode": {
    "name": "ipython",
    "version": 3
   },
   "file_extension": ".py",
   "mimetype": "text/x-python",
   "name": "python",
   "nbconvert_exporter": "python",
   "pygments_lexer": "ipython3",
   "version": "3.8.3"
  }
 },
 "nbformat": 4,
 "nbformat_minor": 4
}
