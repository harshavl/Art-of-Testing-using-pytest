{
 "cells": [
  {
   "cell_type": "markdown",
   "metadata": {},
   "source": [
    "# How to write and test a Python program"
   ]
  },
  {
   "cell_type": "code",
   "execution_count": 17,
   "metadata": {},
   "outputs": [
    {
     "name": "stdout",
     "output_type": "stream",
     "text": [
      "Overwriting plan.txt\n"
     ]
    }
   ],
   "source": [
    "%%writefile plan.txt\n",
    "\n",
    "0. Create GitHub account and sync:\n",
    "    \n",
    "1. create virtual env:\n",
    "    \n",
    "pip install virtualenv\n",
    "virtualenv --version\n",
    "virtualenv hello\n",
    "source hello/bin/activate\n",
    "deactivate\n",
    "\n",
    "2. Write requirements file:\n",
    "    \n",
    "3. Makefile:\n",
    "    \n",
    "4. Test cases:\n",
    "- file present\n",
    "- file permission\n",
    "- Test Usage\n",
    "- Single Output: Hello, World!\n",
    "- Mulitple Output: Universe and Multiverse\n",
    "- Add Parameters:\n",
    "    "
   ]
  },
  {
   "cell_type": "code",
   "execution_count": 1,
   "metadata": {},
   "outputs": [
    {
     "name": "stdout",
     "output_type": "stream",
     "text": [
      "Writing requirements.txt\n"
     ]
    }
   ],
   "source": [
    "%%writefile requirements.txt\n",
    "pytest\n",
    "pylint\n",
    "black\n",
    "pytest-cov"
   ]
  },
  {
   "cell_type": "markdown",
   "metadata": {},
   "source": [
    "## Lets write Unit Testing"
   ]
  },
  {
   "cell_type": "code",
   "execution_count": 24,
   "metadata": {},
   "outputs": [
    {
     "name": "stdout",
     "output_type": "stream",
     "text": [
      "Overwriting test_hello.py\n"
     ]
    }
   ],
   "source": [
    "%%writefile test_hello.py\n",
    "#!/usr/bin/env python3\n",
    "\"\"\"tests for hello.py\"\"\"\n",
    "\n",
    "import os\n",
    "from subprocess import getstatusoutput, getoutput\n",
    "\n",
    "prg = 'hello.py'\n",
    "\n",
    "\n",
    "# --------------------------------------------------\n",
    "def test_exists():\n",
    "    \"\"\"exists\"\"\"\n",
    "\n",
    "    assert os.path.isfile(prg)\n",
    "\n",
    "\n",
    "# --------------------------------------------------\n",
    "def test_runnable():\n",
    "    \"\"\"Runs using python3\"\"\"\n",
    "\n",
    "    out = getoutput(f'python {prg}')\n",
    "    assert out.strip() == 'Hello, World!'\n",
    "\n",
    "\n",
    "# --------------------------------------------------\n",
    "def test_executable():\n",
    "    \"\"\"Says 'Hello, World!' by default\"\"\"\n",
    "\n",
    "    out = getoutput(f'python {prg}')\n",
    "    assert out.strip() == 'Hello, World!'\n",
    "\n",
    "\n",
    "# --------------------------------------------------\n",
    "def test_usage():\n",
    "    \"\"\"usage\"\"\"\n",
    "\n",
    "    for flag in ['-h', '--help']:\n",
    "        rv, out = getstatusoutput(f'python {prg} {flag}')\n",
    "        assert rv == 0\n",
    "        assert out.lower().startswith('usage')\n",
    "\n",
    "\n",
    "# --------------------------------------------------\n",
    "def test_input():\n",
    "    \"\"\"test for input\"\"\"\n",
    "\n",
    "    for val in ['Universe', 'Multiverse']:\n",
    "        for option in ['-n', '--name']:\n",
    "            rv, out = getstatusoutput(f'python {prg} {option} {val}')\n",
    "            assert rv == 0\n",
    "            assert out.strip() == f'Hello, {val}!'"
   ]
  },
  {
   "cell_type": "markdown",
   "metadata": {},
   "source": [
    "## write Makefile"
   ]
  },
  {
   "cell_type": "code",
   "execution_count": 4,
   "metadata": {},
   "outputs": [
    {
     "name": "stdout",
     "output_type": "stream",
     "text": [
      "Writing Makefile\n"
     ]
    }
   ],
   "source": [
    "%%writefile Makefile\n",
    "install:\n",
    "\tpip install --upgrade pip &&\\\n",
    "\t\tpip install -r requirements.txt\n",
    "\n",
    "lint:\n",
    "\tpylint --disable=R,C hello.py\n",
    "\n",
    "format:\n",
    "\tblack *.py\n",
    "\n",
    "test:\n",
    "\tpython -m pytest -vv --cov=hello test_hello.py\n",
    "\n",
    "deploy:\n",
    "\techo \"Deploye here\"\n",
    "all: install lint test"
   ]
  },
  {
   "cell_type": "markdown",
   "metadata": {},
   "source": [
    "## Write hello.py file"
   ]
  },
  {
   "cell_type": "code",
   "execution_count": 7,
   "metadata": {},
   "outputs": [
    {
     "name": "stdout",
     "output_type": "stream",
     "text": [
      "/home/harsha/anaconda3/bin/python\r\n"
     ]
    }
   ],
   "source": [
    "! which python\n",
    "\n"
   ]
  },
  {
   "cell_type": "code",
   "execution_count": 8,
   "metadata": {},
   "outputs": [
    {
     "name": "stdout",
     "output_type": "stream",
     "text": [
      "harsha\r\n"
     ]
    }
   ],
   "source": [
    "! echo $USER"
   ]
  },
  {
   "cell_type": "code",
   "execution_count": 9,
   "metadata": {},
   "outputs": [
    {
     "name": "stdout",
     "output_type": "stream",
     "text": [
      "/home/harsha\r\n"
     ]
    }
   ],
   "source": [
    "! echo $HOME"
   ]
  },
  {
   "cell_type": "code",
   "execution_count": 10,
   "metadata": {},
   "outputs": [
    {
     "name": "stdout",
     "output_type": "stream",
     "text": [
      "Python 3.7.3 (default, Mar 27 2019, 22:11:17) \n",
      "[GCC 7.3.0] :: Anaconda, Inc. on linux\n",
      "Type \"help\", \"copyright\", \"credits\" or \"license\" for more information.\n",
      ">>> \n",
      "Traceback (most recent call last):\n",
      "  File \"<stdin>\", line 1, in <module>\n",
      "KeyboardInterrupt\n",
      ">>> "
     ]
    }
   ],
   "source": [
    "! env python"
   ]
  },
  {
   "cell_type": "code",
   "execution_count": 11,
   "metadata": {},
   "outputs": [
    {
     "name": "stdout",
     "output_type": "stream",
     "text": [
      "Writing hello.py\n"
     ]
    }
   ],
   "source": [
    "%%writefile hello.py\n",
    "#!/usr/bin/env python\n",
    "print('Hello, World!')\n"
   ]
  },
  {
   "cell_type": "code",
   "execution_count": 13,
   "metadata": {},
   "outputs": [],
   "source": [
    "! chmod +x hello.py"
   ]
  },
  {
   "cell_type": "code",
   "execution_count": 14,
   "metadata": {},
   "outputs": [
    {
     "name": "stdout",
     "output_type": "stream",
     "text": [
      "Hello, World!\r\n"
     ]
    }
   ],
   "source": [
    "! ./hello.py"
   ]
  },
  {
   "cell_type": "code",
   "execution_count": 15,
   "metadata": {},
   "outputs": [
    {
     "name": "stdout",
     "output_type": "stream",
     "text": [
      "Hello, World!\r\n"
     ]
    }
   ],
   "source": [
    "! python hello.py"
   ]
  },
  {
   "cell_type": "code",
   "execution_count": 16,
   "metadata": {},
   "outputs": [
    {
     "name": "stdout",
     "output_type": "stream",
     "text": [
      "/home/harsha/anaconda3/bin:/home/harsha/.local/bin:/home/harsha/anaconda3/bin:/home/harsha/anaconda3/condabin:/usr/local/sbin:/usr/local/bin:/usr/sbin:/usr/bin:/sbin:/bin:/usr/games:/usr/local/games:/mnt/c/Program Files (x86)/Common Files/Oracle/Java/javapath_target_1306774687:/mnt/c/Windows/System32:/mnt/c/Windows:/mnt/c/Windows/System32/wbem:/mnt/c/Windows/System32/WindowsPowerShell/v1.0:/mnt/c/Program Files (x86)/Symantec/VIP Access Client:/mnt/c/Windows/System32/OpenSSH:/mnt/c/Windows/System32:/mnt/c/Program Files (x86)/Windows Kits/8.1/Windows Performance Toolkit:/mnt/c/Program Files/PuTTY:/mnt/c/Program Files (x86)/Pulse Secure/VC142.CRT/X64:/mnt/c/Program Files (x86)/Pulse Secure/VC142.CRT/X86:/mnt/c/Users/hl3/AppData/Local/Microsoft/WindowsApps:/mnt/c/Program Files/Java/jre1.8.0_202/bin:/mnt/c/Users/hl3/OneDrive - DXC Production/heap/selenium_webbrower_automation/driver:/mnt/c/Users/hl3/AppData/Local/Programs/Microsoft VS Code/bin:/snap/bin\r\n"
     ]
    }
   ],
   "source": [
    "! echo $PATH"
   ]
  },
  {
   "cell_type": "code",
   "execution_count": 18,
   "metadata": {},
   "outputs": [
    {
     "name": "stdout",
     "output_type": "stream",
     "text": [
      "Overwriting hello.py\n"
     ]
    }
   ],
   "source": [
    "%%writefile hello.py\n",
    "\n",
    "  \n",
    "#!/usr/bin/env python\n",
    "#\n",
    "# Description: Say hello\n",
    "# Input:\n",
    "# Output:\n",
    "# How to Use:\n",
    "#\n",
    "\n",
    "\n",
    "import argparse\n",
    "\n",
    "def get_args():\n",
    "    parser = argparse.ArgumentParser(description='Say hello')\n",
    "    parser.add_argument('-n', '--name', metavar='name',\n",
    "                        default='World', help='Name to greet')\n",
    "    return parser.parse_args()\n",
    "\n",
    "def main():\n",
    "    args = get_args()\n",
    "    print('Hello, ' + args.name + '!')\n",
    "\n",
    "if __name__ == '__main__':\n",
    "    main()"
   ]
  },
  {
   "cell_type": "code",
   "execution_count": 20,
   "metadata": {},
   "outputs": [
    {
     "name": "stdout",
     "output_type": "stream",
     "text": [
      "pip install --upgrade pip &&\\\n",
      "\tpip install -r requirements.txt\n",
      "Requirement already satisfied: pip in /home/harsha/anaconda3/lib/python3.7/site-packages (20.3)\n",
      "Collecting pip\n",
      "  Downloading pip-20.3.1-py2.py3-none-any.whl (1.5 MB)\n",
      "\u001b[K     |████████████████████████████████| 1.5 MB 238 kB/s eta 0:00:01     |█████████████████████▏          | 1.0 MB 351 kB/s eta 0:00:02\n",
      "\u001b[?25hInstalling collected packages: pip\n",
      "  Attempting uninstall: pip\n",
      "    Found existing installation: pip 20.3\n",
      "    Uninstalling pip-20.3:\n",
      "      Successfully uninstalled pip-20.3\n",
      "Successfully installed pip-20.3.1\n",
      "Requirement already satisfied: pytest in /home/harsha/anaconda3/lib/python3.7/site-packages (from -r requirements.txt (line 1)) (4.3.1)\n",
      "Requirement already satisfied: pylint in /home/harsha/anaconda3/lib/python3.7/site-packages (from -r requirements.txt (line 2)) (2.3.1)\n",
      "Requirement already satisfied: black in /home/harsha/anaconda3/lib/python3.7/site-packages (from -r requirements.txt (line 3)) (20.8b1)\n",
      "Requirement already satisfied: regex>=2020.1.8 in /home/harsha/anaconda3/lib/python3.7/site-packages (from black->-r requirements.txt (line 3)) (2020.11.13)\n",
      "Requirement already satisfied: appdirs in /home/harsha/anaconda3/lib/python3.7/site-packages (from black->-r requirements.txt (line 3)) (1.4.4)\n",
      "Requirement already satisfied: typed-ast>=1.4.0 in /home/harsha/anaconda3/lib/python3.7/site-packages (from black->-r requirements.txt (line 3)) (1.4.1)\n",
      "Requirement already satisfied: click>=7.1.2 in /home/harsha/anaconda3/lib/python3.7/site-packages (from black->-r requirements.txt (line 3)) (7.1.2)\n",
      "Requirement already satisfied: toml>=0.10.1 in /home/harsha/anaconda3/lib/python3.7/site-packages (from black->-r requirements.txt (line 3)) (0.10.2)\n",
      "Requirement already satisfied: typing-extensions>=3.7.4 in /home/harsha/anaconda3/lib/python3.7/site-packages (from black->-r requirements.txt (line 3)) (3.7.4.3)\n",
      "Requirement already satisfied: mypy-extensions>=0.4.3 in /home/harsha/anaconda3/lib/python3.7/site-packages (from black->-r requirements.txt (line 3)) (0.4.3)\n",
      "Requirement already satisfied: pathspec<1,>=0.6 in /home/harsha/anaconda3/lib/python3.7/site-packages (from black->-r requirements.txt (line 3)) (0.8.1)\n",
      "Requirement already satisfied: astroid<3,>=2.2.0 in /home/harsha/anaconda3/lib/python3.7/site-packages (from pylint->-r requirements.txt (line 2)) (2.2.5)\n",
      "Requirement already satisfied: isort<5,>=4.2.5 in /home/harsha/anaconda3/lib/python3.7/site-packages (from pylint->-r requirements.txt (line 2)) (4.3.16)\n",
      "Requirement already satisfied: mccabe<0.7,>=0.6 in /home/harsha/anaconda3/lib/python3.7/site-packages (from pylint->-r requirements.txt (line 2)) (0.6.1)\n",
      "Requirement already satisfied: py>=1.5.0 in /home/harsha/anaconda3/lib/python3.7/site-packages (from pytest->-r requirements.txt (line 1)) (1.8.0)\n",
      "Requirement already satisfied: six>=1.10.0 in /home/harsha/anaconda3/lib/python3.7/site-packages (from pytest->-r requirements.txt (line 1)) (1.12.0)\n",
      "Requirement already satisfied: setuptools in /home/harsha/anaconda3/lib/python3.7/site-packages (from pytest->-r requirements.txt (line 1)) (40.8.0)\n",
      "Requirement already satisfied: attrs>=17.4.0 in /home/harsha/anaconda3/lib/python3.7/site-packages (from pytest->-r requirements.txt (line 1)) (19.1.0)\n",
      "Requirement already satisfied: atomicwrites>=1.0 in /home/harsha/anaconda3/lib/python3.7/site-packages (from pytest->-r requirements.txt (line 1)) (1.3.0)\n",
      "Requirement already satisfied: pluggy>=0.7 in /home/harsha/anaconda3/lib/python3.7/site-packages (from pytest->-r requirements.txt (line 1)) (0.9.0)\n",
      "Requirement already satisfied: more-itertools>=4.0.0 in /home/harsha/anaconda3/lib/python3.7/site-packages (from pytest->-r requirements.txt (line 1)) (6.0.0)\n",
      "Collecting pytest-cov\n",
      "  Using cached pytest_cov-2.10.1-py2.py3-none-any.whl (19 kB)\n",
      "Collecting pytest\n",
      "  Using cached pytest-6.1.2-py3-none-any.whl (272 kB)\n",
      "Requirement already satisfied: packaging in /home/harsha/anaconda3/lib/python3.7/site-packages (from pytest->-r requirements.txt (line 1)) (19.0)\n",
      "Requirement already satisfied: attrs>=17.4.0 in /home/harsha/anaconda3/lib/python3.7/site-packages (from pytest->-r requirements.txt (line 1)) (19.1.0)\n",
      "Requirement already satisfied: toml>=0.10.1 in /home/harsha/anaconda3/lib/python3.7/site-packages (from black->-r requirements.txt (line 3)) (0.10.2)\n",
      "Requirement already satisfied: lazy-object-proxy in /home/harsha/anaconda3/lib/python3.7/site-packages (from astroid<3,>=2.2.0->pylint->-r requirements.txt (line 2)) (1.3.1)\n",
      "Requirement already satisfied: wrapt in /home/harsha/anaconda3/lib/python3.7/site-packages (from astroid<3,>=2.2.0->pylint->-r requirements.txt (line 2)) (1.11.1)\n",
      "Requirement already satisfied: typed-ast>=1.4.0 in /home/harsha/anaconda3/lib/python3.7/site-packages (from black->-r requirements.txt (line 3)) (1.4.1)\n",
      "Requirement already satisfied: six>=1.10.0 in /home/harsha/anaconda3/lib/python3.7/site-packages (from pytest->-r requirements.txt (line 1)) (1.12.0)\n",
      "Collecting coverage>=4.4\n",
      "  Using cached coverage-5.3-cp37-cp37m-manylinux1_x86_64.whl (229 kB)\n",
      "Collecting importlib-metadata>=0.12\n",
      "  Using cached importlib_metadata-3.1.1-py3-none-any.whl (9.6 kB)\n",
      "Collecting iniconfig\n",
      "  Using cached iniconfig-1.1.1-py2.py3-none-any.whl (5.0 kB)\n",
      "Requirement already satisfied: pyparsing>=2.0.2 in /home/harsha/anaconda3/lib/python3.7/site-packages (from packaging->pytest->-r requirements.txt (line 1)) (2.3.1)\n",
      "Requirement already satisfied: six>=1.10.0 in /home/harsha/anaconda3/lib/python3.7/site-packages (from pytest->-r requirements.txt (line 1)) (1.12.0)\n",
      "Collecting pluggy>=0.7\n",
      "  Using cached pluggy-0.13.1-py2.py3-none-any.whl (18 kB)\n",
      "Collecting py>=1.5.0\n",
      "  Using cached py-1.9.0-py2.py3-none-any.whl (99 kB)\n",
      "Collecting zipp>=0.5\n",
      "  Using cached zipp-3.4.0-py3-none-any.whl (5.2 kB)\n",
      "Installing collected packages: zipp, importlib-metadata, py, pluggy, iniconfig, pytest, coverage, pytest-cov\n",
      "  Attempting uninstall: zipp\n",
      "    Found existing installation: zipp 0.3.3\n",
      "    Uninstalling zipp-0.3.3:\n",
      "      Successfully uninstalled zipp-0.3.3\n",
      "  Attempting uninstall: importlib-metadata\n",
      "    Found existing installation: importlib-metadata 0.0.0\n",
      "    Uninstalling importlib-metadata-0.0.0:\n",
      "      Successfully uninstalled importlib-metadata-0.0.0\n",
      "  Attempting uninstall: py\n",
      "    Found existing installation: py 1.8.0\n",
      "    Uninstalling py-1.8.0:\n",
      "      Successfully uninstalled py-1.8.0\n",
      "  Attempting uninstall: pluggy\n",
      "    Found existing installation: pluggy 0.9.0\n",
      "    Uninstalling pluggy-0.9.0:\n",
      "      Successfully uninstalled pluggy-0.9.0\n",
      "  Attempting uninstall: pytest\n",
      "    Found existing installation: pytest 4.3.1\n",
      "    Uninstalling pytest-4.3.1:\n",
      "      Successfully uninstalled pytest-4.3.1\n",
      "Successfully installed coverage-5.3 importlib-metadata-3.1.1 iniconfig-1.1.1 pluggy-0.13.1 py-1.9.0 pytest-6.1.2 pytest-cov-2.10.1 zipp-3.4.0\n"
     ]
    }
   ],
   "source": [
    "! make install"
   ]
  },
  {
   "cell_type": "code",
   "execution_count": 21,
   "metadata": {},
   "outputs": [
    {
     "name": "stdout",
     "output_type": "stream",
     "text": [
      "pylint --disable=R,C hello.py\n",
      "\n",
      "--------------------------------------------------------------------\n",
      "Your code has been rated at 10.00/10 (previous run: 10.00/10, +0.00)\n",
      "\n"
     ]
    }
   ],
   "source": [
    "! make lint"
   ]
  },
  {
   "cell_type": "code",
   "execution_count": 22,
   "metadata": {},
   "outputs": [
    {
     "name": "stdout",
     "output_type": "stream",
     "text": [
      "black *.py\n",
      "\u001b[1mreformatted /mnt/c/harsha/pytest/hello.py\u001b[0m\n",
      "\u001b[1mreformatted /mnt/c/harsha/pytest/test_hello.py\u001b[0m\n",
      "\u001b[1mAll done! ✨ 🍰 ✨\u001b[0m\n",
      "\u001b[1m2 files reformatted\u001b[0m.\u001b[0m\n"
     ]
    }
   ],
   "source": [
    "! make format"
   ]
  },
  {
   "cell_type": "code",
   "execution_count": 25,
   "metadata": {},
   "outputs": [
    {
     "name": "stdout",
     "output_type": "stream",
     "text": [
      "python -m pytest -vv --cov=hello test_hello.py\n",
      "\u001b[1m============================= test session starts ==============================\u001b[0m\n",
      "platform linux -- Python 3.7.3, pytest-6.1.2, py-1.9.0, pluggy-0.13.1 -- /home/harsha/anaconda3/bin/python\n",
      "cachedir: .pytest_cache\n",
      "rootdir: /mnt/c/harsha/pytest\n",
      "plugins: arraydiff-0.3, cov-2.10.1, doctestplus-0.3.0, openfiles-0.3.2, remotedata-0.3.1\n",
      "collected 5 items                                                              \u001b[0m\n",
      "\n",
      "test_hello.py::test_exists \u001b[32mPASSED\u001b[0m\u001b[32m                                        [ 20%]\u001b[0m\n",
      "test_hello.py::test_runnable \u001b[32mPASSED\u001b[0m\u001b[32m                                      [ 40%]\u001b[0m\n",
      "test_hello.py::test_executable \u001b[32mPASSED\u001b[0m\u001b[32m                                    [ 60%]\u001b[0m\n",
      "test_hello.py::test_usage \u001b[32mPASSED\u001b[0m\u001b[32m                                         [ 80%]\u001b[0m\n",
      "test_hello.py::test_input \u001b[32mPASSED\u001b[0m\u001b[32m                                         [100%]\u001b[0mCoverage.py warning: Module hello was never imported. (module-not-imported)\n",
      "Coverage.py warning: No data was collected. (no-data-collected)\n",
      "\n",
      "\n",
      "----------- coverage: platform linux, python 3.7.3-final-0 -----------\n",
      "Name       Stmts   Miss  Cover\n",
      "------------------------------\n",
      "hello.py      10      0   100%\n",
      "\n",
      "\n",
      "\u001b[32m============================== \u001b[32m\u001b[1m5 passed\u001b[0m\u001b[32m in 5.96s\u001b[0m\u001b[32m ===============================\u001b[0m\n"
     ]
    }
   ],
   "source": [
    "! make test"
   ]
  },
  {
   "cell_type": "code",
   "execution_count": 27,
   "metadata": {},
   "outputs": [
    {
     "name": "stdout",
     "output_type": "stream",
     "text": [
      "usage: hello.py [-h] [-n name]\r\n",
      "\r\n",
      "Say hello\r\n",
      "\r\n",
      "optional arguments:\r\n",
      "  -h, --help            show this help message and exit\r\n",
      "  -n name, --name name  Name to greet\r\n"
     ]
    }
   ],
   "source": [
    "! python hello.py -h"
   ]
  },
  {
   "cell_type": "code",
   "execution_count": null,
   "metadata": {},
   "outputs": [],
   "source": [
    "\n"
   ]
  }
 ],
 "metadata": {
  "kernelspec": {
   "display_name": "Python 3",
   "language": "python",
   "name": "python3"
  },
  "language_info": {
   "codemirror_mode": {
    "name": "ipython",
    "version": 3
   },
   "file_extension": ".py",
   "mimetype": "text/x-python",
   "name": "python",
   "nbconvert_exporter": "python",
   "pygments_lexer": "ipython3",
   "version": "3.7.3"
  }
 },
 "nbformat": 4,
 "nbformat_minor": 2
}
