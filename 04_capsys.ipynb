{
 "cells": [
  {
   "cell_type": "markdown",
   "metadata": {},
   "source": [
    "## How to test output from print statement"
   ]
  },
  {
   "cell_type": "code",
   "execution_count": 1,
   "metadata": {},
   "outputs": [
    {
     "name": "stdout",
     "output_type": "stream",
     "text": [
      "Writing greet.py\n"
     ]
    }
   ],
   "source": [
    "%%writefile greet.py\n",
    "\n",
    "def greet(name):\n",
    "    print(f'Hello, {name}!')\n",
    "    "
   ]
  },
  {
   "cell_type": "code",
   "execution_count": 2,
   "metadata": {},
   "outputs": [
    {
     "name": "stdout",
     "output_type": "stream",
     "text": [
      "Writing test_greet.py\n"
     ]
    }
   ],
   "source": [
    "%%writefile test_greet.py\n",
    "\n",
    "from greet import greet\n",
    "\n",
    "def test_greet(capsys):\n",
    "    greet('world')\n",
    "    captured_out, captured_err = capsys.readouterr()\n",
    "    assert captured_out.strip() == 'Hello, world!'\n",
    "    "
   ]
  },
  {
   "cell_type": "code",
   "execution_count": 3,
   "metadata": {},
   "outputs": [
    {
     "name": "stdout",
     "output_type": "stream",
     "text": [
      "============================= test session starts =============================\n",
      "platform win32 -- Python 3.8.3, pytest-6.0.2, py-1.9.0, pluggy-0.13.1 -- c:\\users\\hl3\\anaconda3\\python.exe\n",
      "cachedir: .pytest_cache\n",
      "rootdir: C:\\Users\\hl3\\OneDrive - DXC Production\\heap\\unit_testing_software_pytest\\pytest, configfile: pytest.ini\n",
      "plugins: sugar-0.9.4\n",
      "collecting ... collected 1 item\n",
      "\n",
      "test_greet.py::test_greet PASSED                                         [100%]\n",
      "\n",
      "============================== 1 passed in 0.16s ==============================\n"
     ]
    }
   ],
   "source": [
    "! pytest -vv test_greet.py"
   ]
  },
  {
   "cell_type": "markdown",
   "metadata": {},
   "source": [
    "3:54"
   ]
  },
  {
   "cell_type": "markdown",
   "metadata": {},
   "source": [
    "## Monkey Patching in pytest."
   ]
  },
  {
   "cell_type": "code",
   "execution_count": 1,
   "metadata": {},
   "outputs": [
    {
     "name": "stdout",
     "output_type": "stream",
     "text": [
      "Writing piglatin.py\n"
     ]
    }
   ],
   "source": [
    "%%writefile piglatin.py\n",
    "\n",
    "#!/usr/bin/env python3\n",
    "\n",
    "def plword(s):\n",
    "    s = s.lower()\n",
    "    if s[0] in 'aeiou':\n",
    "        return s + 'way'\n",
    "    else:\n",
    "        return s[1:] + s[0] + 'ay'\n",
    "\n",
    "\n",
    "def print_plword(s):\n",
    "    print(f'{s} is {plword(s)}')\n",
    "\n",
    "\n",
    "def print_interactive_plword():\n",
    "    s = input(\"Enter a word to translate: \")\n",
    "    print(f'{s} is {plword(s)}')\n",
    "\n",
    "\n",
    "def write_plword_to_file(s, filename):\n",
    "    with open(filename, 'w') as f:\n",
    "        f.write(f'{s} is {plword(s)}\\n')\n",
    "\n",
    "\n",
    "def plword_with_feeling(s):\n",
    "    return plword(s) + '!!!!'\n",
    "\n",
    "# Pig Latin -- children's \"secret\" language\n",
    "\n",
    "# - write a function that translates from English into Pig Latin\n",
    "# - (assume all lowercase, one word, no punctuation)\n",
    "\n",
    "# - write the function, plword\n",
    "# - takes one argument (string)\n",
    "# - returns one argument (string)\n",
    "\n",
    "# rules:\n",
    "# (1) If the word starts with a vowel, add \"way\"\n",
    "# (2) Otherwise, move the first letter to the end, and add \"ay\"\n",
    "\n",
    "# examples:\n",
    "# - octopus -> octopusway\n",
    "# - computer -> omputercay\n",
    "# - table -> abletay\n",
    "# - papaya -> apayapay\n",
    "\n",
    "# the test for plword should:\n",
    "# - handle empty string\n",
    "# - handle words with vowels at the start\n",
    "# - handle words with consonants at the start\n",
    "\n",
    "# use parametrized tests to do this\n",
    "\n",
    "# write a new function, print_plword, which prints the original word *and* the Pig Latin translation on the screen.\n",
    "# use capsys to double check that the correct string was written.\n",
    "\n",
    "# Example:\n",
    "\n",
    "# print_plword('hello') should print 'hello is ellohay'\n",
    "\n"
   ]
  },
  {
   "cell_type": "code",
   "execution_count": 4,
   "metadata": {},
   "outputs": [
    {
     "name": "stdout",
     "output_type": "stream",
     "text": [
      "Overwriting test_piglatin.py\n"
     ]
    }
   ],
   "source": [
    "%%writefile test_piglatin.py\n",
    "\n",
    "import pytest\n",
    "from io import StringIO\n",
    "\n",
    "from piglatin import plword, print_plword, print_interactive_plword, write_plword_to_file\n",
    "\n",
    "@pytest.mark.parametrize('one_word, translation',\n",
    "                        [('cat', 'atcay'),\n",
    "                         ('computer', 'omputercay'),\n",
    "                        ( 'ELEPHANT', 'elephantway'),\n",
    "                        ('octopus', 'octopusway')])\n",
    "def test_plword( one_word, translation ):\n",
    "    assert plword(one_word) == translation\n",
    "    "
   ]
  },
  {
   "cell_type": "code",
   "execution_count": 5,
   "metadata": {},
   "outputs": [
    {
     "name": "stdout",
     "output_type": "stream",
     "text": [
      "============================= test session starts =============================\n",
      "platform win32 -- Python 3.8.3, pytest-6.0.2, py-1.9.0, pluggy-0.13.1 -- c:\\users\\hl3\\anaconda3\\python.exe\n",
      "cachedir: .pytest_cache\n",
      "rootdir: C:\\Users\\hl3\\OneDrive - DXC Production\\heap\\unit_testing_software_pytest\\pytest, configfile: pytest.ini\n",
      "plugins: sugar-0.9.4\n",
      "collecting ... collected 4 items\n",
      "\n",
      "test_piglatin.py::test_plword[cat-atcay] PASSED                          [ 25%]\n",
      "test_piglatin.py::test_plword[computer-omputercay] PASSED                [ 50%]\n",
      "test_piglatin.py::test_plword[ELEPHANT-elephantway] PASSED               [ 75%]\n",
      "test_piglatin.py::test_plword[octopus-octopusway] PASSED                 [100%]\n",
      "\n",
      "============================== 4 passed in 0.19s ==============================\n"
     ]
    }
   ],
   "source": [
    "! pytest -vv test_piglatin.py"
   ]
  },
  {
   "cell_type": "markdown",
   "metadata": {},
   "source": [
    "## add one more function"
   ]
  },
  {
   "cell_type": "code",
   "execution_count": 6,
   "metadata": {},
   "outputs": [
    {
     "name": "stdout",
     "output_type": "stream",
     "text": [
      "Overwriting test_piglatin.py\n"
     ]
    }
   ],
   "source": [
    "%%writefile test_piglatin.py\n",
    "\n",
    "import pytest\n",
    "from io import StringIO\n",
    "\n",
    "from piglatin import plword, print_plword, print_interactive_plword, write_plword_to_file\n",
    "\n",
    "@pytest.mark.parametrize('one_word, translation',\n",
    "                        [('cat', 'atcay'),\n",
    "                         ('computer', 'omputercay'),\n",
    "                        ( 'ELEPHANT', 'elephantway'),\n",
    "                        ('octopus', 'octopusway')])\n",
    "def test_plword( one_word, translation ):\n",
    "    assert plword(one_word) == translation\n",
    "    \n",
    "\n",
    "@pytest.mark.parametrize('one_word, translation',\n",
    "                         [('cat', 'atcay'),\n",
    "                          ('computer', 'omputercay'),\n",
    "                          ('ELEPHANT', 'elephantway'),\n",
    "                          ('octopus', 'octopusway')])\n",
    "def test_print_plword(capsys, one_word, translation):\n",
    "    print_plword(one_word)\n",
    "    captured_out, captured_err = capsys.readouterr()\n",
    "    assert captured_out.strip() == f'{one_word} is {translation}'\n",
    "    "
   ]
  },
  {
   "cell_type": "code",
   "execution_count": 7,
   "metadata": {},
   "outputs": [
    {
     "name": "stdout",
     "output_type": "stream",
     "text": [
      "============================= test session starts =============================\n",
      "platform win32 -- Python 3.8.3, pytest-6.0.2, py-1.9.0, pluggy-0.13.1 -- c:\\users\\hl3\\anaconda3\\python.exe\n",
      "cachedir: .pytest_cache\n",
      "rootdir: C:\\Users\\hl3\\OneDrive - DXC Production\\heap\\unit_testing_software_pytest\\pytest, configfile: pytest.ini\n",
      "plugins: sugar-0.9.4\n",
      "collecting ... collected 8 items\n",
      "\n",
      "test_piglatin.py::test_plword[cat-atcay] PASSED                          [ 12%]\n",
      "test_piglatin.py::test_plword[computer-omputercay] PASSED                [ 25%]\n",
      "test_piglatin.py::test_plword[ELEPHANT-elephantway] PASSED               [ 37%]\n",
      "test_piglatin.py::test_plword[octopus-octopusway] PASSED                 [ 50%]\n",
      "test_piglatin.py::test_print_plword[cat-atcay] PASSED                    [ 62%]\n",
      "test_piglatin.py::test_print_plword[computer-omputercay] PASSED          [ 75%]\n",
      "test_piglatin.py::test_print_plword[ELEPHANT-elephantway] PASSED         [ 87%]\n",
      "test_piglatin.py::test_print_plword[octopus-octopusway] PASSED           [100%]\n",
      "\n",
      "============================== 8 passed in 0.18s ==============================\n"
     ]
    }
   ],
   "source": [
    "! pytest -vv test_piglatin.py"
   ]
  },
  {
   "cell_type": "code",
   "execution_count": 8,
   "metadata": {},
   "outputs": [
    {
     "name": "stdout",
     "output_type": "stream",
     "text": [
      "Overwriting test_piglatin.py\n"
     ]
    }
   ],
   "source": [
    "%%writefile test_piglatin.py\n",
    "\n",
    "import pytest\n",
    "from io import StringIO\n",
    "\n",
    "from piglatin import plword, print_plword, print_interactive_plword, write_plword_to_file\n",
    "\n",
    "@pytest.mark.parametrize('one_word, translation',\n",
    "                        [('cat', 'atcay'),\n",
    "                         ('computer', 'omputercay'),\n",
    "                        ( 'ELEPHANT', 'elephantway'),\n",
    "                        ('octopus', 'octopusway')])\n",
    "def test_plword( one_word, translation ):\n",
    "    assert plword(one_word) == translation\n",
    "    \n",
    "\n",
    "@pytest.mark.parametrize('one_word, translation',\n",
    "                         [('cat', 'atcay'),\n",
    "                          ('computer', 'omputercay'),\n",
    "                          ('ELEPHANT', 'elephantway'),\n",
    "                          ('octopus', 'octopusway')])\n",
    "def test_print_plword(capsys, one_word, translation):\n",
    "    print_plword(one_word)\n",
    "    captured_out, captured_err = capsys.readouterr()\n",
    "    assert captured_out.strip() == f'{one_word} is {translation}'\n",
    "    \n",
    "    \n",
    "def test_write_plword_to_file(tmp_path):\n",
    "    f = tmp_path / 'piglatin.txt'\n",
    "    write_plword_to_file('hello', f )\n",
    "    \n",
    "    assert f.open().read().strip() == 'hello is ellohay'"
   ]
  },
  {
   "cell_type": "code",
   "execution_count": 9,
   "metadata": {},
   "outputs": [
    {
     "name": "stdout",
     "output_type": "stream",
     "text": [
      "============================= test session starts =============================\n",
      "platform win32 -- Python 3.8.3, pytest-6.0.2, py-1.9.0, pluggy-0.13.1 -- c:\\users\\hl3\\anaconda3\\python.exe\n",
      "cachedir: .pytest_cache\n",
      "rootdir: C:\\Users\\hl3\\OneDrive - DXC Production\\heap\\unit_testing_software_pytest\\pytest, configfile: pytest.ini\n",
      "plugins: sugar-0.9.4\n",
      "collecting ... collected 9 items\n",
      "\n",
      "test_piglatin.py::test_plword[cat-atcay] PASSED                          [ 11%]\n",
      "test_piglatin.py::test_plword[computer-omputercay] PASSED                [ 22%]\n",
      "test_piglatin.py::test_plword[ELEPHANT-elephantway] PASSED               [ 33%]\n",
      "test_piglatin.py::test_plword[octopus-octopusway] PASSED                 [ 44%]\n",
      "test_piglatin.py::test_print_plword[cat-atcay] PASSED                    [ 55%]\n",
      "test_piglatin.py::test_print_plword[computer-omputercay] PASSED          [ 66%]\n",
      "test_piglatin.py::test_print_plword[ELEPHANT-elephantway] PASSED         [ 77%]\n",
      "test_piglatin.py::test_print_plword[octopus-octopusway] PASSED           [ 88%]\n",
      "test_piglatin.py::test_write_plword_to_file PASSED                       [100%]\n",
      "\n",
      "============================== 9 passed in 0.19s ==============================\n"
     ]
    }
   ],
   "source": [
    "! pytest -vv test_piglatin.py"
   ]
  },
  {
   "cell_type": "code",
   "execution_count": 11,
   "metadata": {},
   "outputs": [],
   "source": [
    "# 4:10"
   ]
  },
  {
   "cell_type": "code",
   "execution_count": null,
   "metadata": {},
   "outputs": [],
   "source": []
  }
 ],
 "metadata": {
  "kernelspec": {
   "display_name": "Python 3",
   "language": "python",
   "name": "python3"
  },
  "language_info": {
   "codemirror_mode": {
    "name": "ipython",
    "version": 3
   },
   "file_extension": ".py",
   "mimetype": "text/x-python",
   "name": "python",
   "nbconvert_exporter": "python",
   "pygments_lexer": "ipython3",
   "version": "3.8.3"
  }
 },
 "nbformat": 4,
 "nbformat_minor": 4
}
